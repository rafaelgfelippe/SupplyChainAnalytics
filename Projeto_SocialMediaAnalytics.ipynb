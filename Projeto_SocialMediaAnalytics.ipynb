{
 "cells": [
  {
   "cell_type": "markdown",
   "metadata": {},
   "source": [
    "# Análise de Sentimentos no Twitter - Social Media Analytics\n",
    "\n",
    "Este é um projeto de Processamento de Linguagem Natural (PLN)."
   ]
  },
  {
   "cell_type": "markdown",
   "metadata": {},
   "source": [
    "## 1. Entendimento do Negócio"
   ]
  },
  {
   "cell_type": "markdown",
   "metadata": {},
   "source": [
    "A Análise de Sentimentos é um campo dentro do Processamento de Linguagem Natural que constrói sistemas que identificam e extraem opiniões dentro de textos. Normalmente, além de identificar a opinião, esses sistemas extraem atributos da expressão, como:\n",
    "\n",
    "- Assunto: o que está sendo falado.\n",
    "- Detentor da opinião: quem é a pessoa ou entidade que expressa a opinião.\n",
    "- Polaridade: se a opinião expressa é positiva ou negativa.\n",
    "\n",
    "Essa técnica está em constante desenvolvimento por possuir muitas aplicações práticas, como por exemplo: \n",
    "\n",
    "- Pesquisas de mercado para captar a emoção apresentada pelo público em relação a um determinado tema.\n",
    "- Atendimento personalizado ao cliente de acordo com os sentimentos apresentados.\n",
    "- Estratégias de Marketing baseadas nos perfis dos clientes.\n",
    "\n",
    "\n",
    "A Análise de Sentimentos transforma informações não-estruturadas em dados estruturados, podendo conter opiniões públicas sobre produtos, serviços, marcas, política ou qualquer outro tópico que seja relevante para a análise da empresa."
   ]
  },
  {
   "cell_type": "markdown",
   "metadata": {},
   "source": [
    "### 1.1 Problema do Negócio"
   ]
  },
  {
   "cell_type": "markdown",
   "metadata": {},
   "source": [
    "Imagine uma empresa que quer saber sobre a repercussão de uma campanha de marketing que foi lançada no mercado. É possível usar as redes sociais para buscar informações, mas como saber se estão falando bem ou mal dessa campanha? Ler, entender e tirar uma conclusão de milhares de comentários de usuários pode ser uma tarefa inviável.\n",
    "\n",
    "É nesse cenário que o objetivo desse projeto se enquadra. Iremos desenvolver um modelo de aprendizado de máquina capaz de classificar tweets sobre um determinado tema em positivo ou negativo. Aqui, não iremos avaliar nenhuma campanha, produto ou serviço de uma empresa específica, em vez disso, utilizaremos tweets relacionados a Black Friday, um tema mais \"genérico\" que não irá expor nenhuma empresa.\n",
    "\n",
    "O grande desafio desse projeto se dá porque não existe um conjunto de dados de tweets pré-etiquetados para treinar o modelo, então, para a fase de treinamento utilizaremos outros dados de contexto parecido, o de avaliações do grupo B2W Digital. Este grupo é responsável pelas lojas Submarino, Shoptime e Americanas.\n",
    "\n",
    "Outro desafio desse projeto é em relação a linguagem das mensagens publicadas no Twitter que, em geral, contém gírias, irônias, e caracteres especiais, então, teremos de realizar o pré-processamento nesses dados, para que o modelo consiga classificar textos que \"nunca viu antes\" de forma satisfatória. Para isso, será utilizado o algorítimo *Multinomial Naive Bayes*, que é um modelo probabilístico baseado na frequência de um termo e excelente para classificação de documentos."
   ]
  },
  {
   "cell_type": "markdown",
   "metadata": {},
   "source": [
    "### 1.2 Dicionário de Dados"
   ]
  },
  {
   "cell_type": "markdown",
   "metadata": {},
   "source": [
    "Como descrito acima, iremos utilizar o conjunto de dados do grupo B2W Digital para o treinamento do modelo. \n",
    "\n",
    "Esse conjunto está dividido em dois arquivos, \"train.csv\" e \"test.csv\", porém, vamos utilizar apenas o conjunto de treino, que possui as avaliações dos consumidores. Os dados podem ser baixados <a href='https://www.kaggle.com/c/i2a2-nlp-2021-sentiment-analysis/data'>neste link</a>, e contém os seguintes atributos: \n",
    "\n",
    "* **`submission_date`**: data de envio da avaliação.\n",
    "* **`review_title`**: título da avaliação.\n",
    "* **`review_text`**: texto principal da avaliação.\n",
    "* **`reviewer_id`**: código de identificação do avaliador.\n",
    "* **`reviewer_birth_year`**: data de nascimento do avaliador.\n",
    "* **`reviewer_gender`**: gênero do avaliador:\n",
    "    - M = masculino. \n",
    "    - F = feminino.\n",
    "* **`reviewer_state`**: UF do estado do avaliador.\n",
    "* **`product_id`**: código de identificação do produto.\n",
    "* **`product_name`**: nome do produto.\n",
    "* **`product_brand`**: marca do produto.\n",
    "* **`site_category_lv1`**: categoria do produto.\n",
    "* **`site_category_lv2`**: categoria do produto (segundo nível).\n",
    "* **`rating`**: nota atribuída a avaliação, de 1 a 5."
   ]
  },
  {
   "cell_type": "markdown",
   "metadata": {},
   "source": [
    "### 1.3 Estratégia da Solução"
   ]
  },
  {
   "cell_type": "markdown",
   "metadata": {},
   "source": [
    "Como estratégia para a solução do projeto, definimos as seguintes etapas:\n",
    "\n",
    "- **1. Entendimento do Negócio**: nessa etapa inicial, realizamos uma breve introdução sobre o tema do projeto e definimos nossos objetivos.\n",
    "\n",
    "\n",
    "- **2. Entendimento dos Dados**: nessa etapa, definimos o conjunto de dados que iremos utilizar e realizamos um tratamento a fim de verificar possíveis inconsistências nos dados. \n",
    "\n",
    "\n",
    "- **3. Pré-Processamento dos Dados**: o principal objetivo nessa etapa é realizar a preparação dos dados para a modelagem. Entre as práticas abordadas nessa sessão estão: balanceamento de classes, limpeza dos dados, lematização e transformação dos dados em vetores numéricos.\n",
    "\n",
    "\n",
    "- **4. Modelagem Preditiva**: aqui, iremos criar o modelo preditivo utilizando o algoritmo *Naive Bayes*. Como métricas de avaliação, verificaremos a acurácia, *recall*, *F1 Score* e também a matriz de confusão.  \n",
    "\n",
    "\n",
    "- **5. Similaridade de Dados**: esta etapa foi inserida como uma análise adicional que tem como objetivo verificar as similaridades entre as palavras mais frequentes. Para a realização dessa tarefa utilizamos o algoritmo *Word2Vec*.\n",
    "\n",
    "\n",
    "- **6. Classificando Tweets**: esta etapa se refere ao objetivo principal do projeto. Com o modelo treinado, iremos realizar a coleta de uma nova base de dados diretamente do Twitter, utilizando a própria API da rede social. Após isso, iremos apresentar esses dados ao modelo preditivo para analisarmos a sua performance.\n",
    "\n",
    "\n",
    "- **7. Considerações Finais**: por fim, aqui, iremos deixar nossas conclusões finais do projeto. "
   ]
  },
  {
   "cell_type": "markdown",
   "metadata": {},
   "source": [
    "## 2. Entendimento dos Dados"
   ]
  },
  {
   "cell_type": "markdown",
   "metadata": {},
   "source": [
    "Vamos iniciar o projeto carregando as bibliotecas e a base de dados."
   ]
  },
  {
   "cell_type": "markdown",
   "metadata": {},
   "source": [
    "### 2.1 Bibliotecas Necessárias"
   ]
  },
  {
   "cell_type": "code",
   "execution_count": 1,
   "metadata": {},
   "outputs": [
    {
     "name": "stdout",
     "output_type": "stream",
     "text": [
      "Bibliotecas carregadas com sucesso!\n"
     ]
    }
   ],
   "source": [
    "# Filtragem das mensagens de avisos.\n",
    "import warnings\n",
    "warnings.filterwarnings('ignore') \n",
    "\n",
    "# Manipulação de dados.\n",
    "import numpy as np\n",
    "import pandas as pd\n",
    "\n",
    "# Criação de gráficos.\n",
    "import matplotlib.pyplot as plt\n",
    "import seaborn as sns\n",
    "\n",
    "# Pré-processamento dos dados.\n",
    "import re\n",
    "from sklearn.feature_extraction.text import TfidfVectorizer\n",
    "import spacy\n",
    "from unidecode import unidecode\n",
    "\n",
    "# Divisão dos dados.\n",
    "from sklearn.model_selection import train_test_split\n",
    "\n",
    "# Algoritmos de Machine Learning.\n",
    "from gensim.models import Word2Vec\n",
    "from gensim.models.phrases import Phraser, Phrases\n",
    "from sklearn.naive_bayes import MultinomialNB\n",
    "\n",
    "# API Twitter.\n",
    "import toml\n",
    "import tweepy as tw\n",
    "\n",
    "# Métricas para avaliação do modelo.\n",
    "from sklearn.metrics import accuracy_score, classification_report, confusion_matrix\n",
    "\n",
    "print('Bibliotecas carregadas com sucesso!')"
   ]
  },
  {
   "cell_type": "code",
   "execution_count": 2,
   "metadata": {},
   "outputs": [
    {
     "name": "stdout",
     "output_type": "stream",
     "text": [
      "Versão da linguagem Python: 3.7.3\n"
     ]
    }
   ],
   "source": [
    "# Versão da linguagem Python.\n",
    "from platform import python_version\n",
    "print('Versão da linguagem Python:', python_version())"
   ]
  },
  {
   "cell_type": "code",
   "execution_count": 3,
   "metadata": {},
   "outputs": [
    {
     "name": "stdout",
     "output_type": "stream",
     "text": [
      "numpy     : 1.21.5\n",
      "pandas    : 1.3.5\n",
      "matplotlib: 3.5.1\n",
      "spacy     : 3.2.3\n",
      "toml      : 0.10.2\n",
      "tweepy    : 4.8.0\n",
      "seaborn   : 0.11.2\n",
      "re        : 2.2.1\n",
      "\n"
     ]
    }
   ],
   "source": [
    "# Versão dos pacotes.\n",
    "%reload_ext watermark\n",
    "%watermark --iversions"
   ]
  },
  {
   "cell_type": "code",
   "execution_count": 4,
   "metadata": {},
   "outputs": [],
   "source": [
    "# Configuração do notebook.\n",
    "\n",
    "# Plotagens.\n",
    "from matplotlib import rcParams\n",
    "rcParams['figure.figsize'] = 15, 10\n",
    "rcParams['lines.linewidth'] = 3\n",
    "\n",
    "# Estilo dos gráficos.\n",
    "plt.style.use('ggplot')\n",
    "\n",
    "# Configuração Dataframe.\n",
    "pd.set_option('max_colwidth', 400)"
   ]
  },
  {
   "cell_type": "markdown",
   "metadata": {},
   "source": [
    "### 2.2 Tratamento Inicial dos Dados"
   ]
  },
  {
   "cell_type": "markdown",
   "metadata": {},
   "source": [
    "Nessa primeira análise, nosso objetivo é tratar possíveis inconsistências nos dados.\n",
    "\n",
    "Conforme explicado na sessão \"Problema de Negócio\", utilizaremos apenas o conjunto \"train.csv\" como base para esse projeto.\n",
    "\n",
    "Selecionaremos apenas 2 colunas: o texto e a nota da avaliação dos usuários."
   ]
  },
  {
   "cell_type": "code",
   "execution_count": 5,
   "metadata": {},
   "outputs": [],
   "source": [
    "# Carregando o conjunto de dados.\n",
    "aux1 = pd.read_csv('train.csv')\n",
    "\n",
    "# Selecionando as variáveis.\n",
    "df = aux1[['review_text', 'rating']]"
   ]
  },
  {
   "cell_type": "markdown",
   "metadata": {},
   "source": [
    "Criar uma cópia do dataset é uma boa prática para não perdermos o conteúdo original durante a manipulação dos dados."
   ]
  },
  {
   "cell_type": "code",
   "execution_count": 6,
   "metadata": {},
   "outputs": [],
   "source": [
    "# Cópia do dataset.\n",
    "df1 = df"
   ]
  },
  {
   "cell_type": "code",
   "execution_count": 7,
   "metadata": {},
   "outputs": [
    {
     "name": "stdout",
     "output_type": "stream",
     "text": [
      "<class 'pandas.core.frame.DataFrame'>\n",
      "RangeIndex: 92661 entries, 0 to 92660\n",
      "Data columns (total 2 columns):\n",
      " #   Column       Non-Null Count  Dtype \n",
      "---  ------       --------------  ----- \n",
      " 0   review_text  92661 non-null  object\n",
      " 1   rating       92661 non-null  int64 \n",
      "dtypes: int64(1), object(1)\n",
      "memory usage: 1.4+ MB\n"
     ]
    }
   ],
   "source": [
    "# Informações do dataframe.\n",
    "df1.info()"
   ]
  },
  {
   "cell_type": "markdown",
   "metadata": {},
   "source": [
    "Esses são os dados que iremos utilizar para o treinamento do modelo.\n",
    "\n",
    "Vejamos se temos registros ausentes ou duplicados."
   ]
  },
  {
   "cell_type": "code",
   "execution_count": 8,
   "metadata": {},
   "outputs": [
    {
     "data": {
      "text/plain": [
       "review_text    0\n",
       "rating         0\n",
       "dtype: int64"
      ]
     },
     "execution_count": 8,
     "metadata": {},
     "output_type": "execute_result"
    }
   ],
   "source": [
    "# Registros ausentes.\n",
    "df1.isnull().sum()"
   ]
  },
  {
   "cell_type": "code",
   "execution_count": 9,
   "metadata": {},
   "outputs": [
    {
     "data": {
      "text/plain": [
       "2308"
      ]
     },
     "execution_count": 9,
     "metadata": {},
     "output_type": "execute_result"
    }
   ],
   "source": [
    "# Registros duplicados.\n",
    "df1.duplicated(keep = False).sum()"
   ]
  },
  {
   "cell_type": "markdown",
   "metadata": {},
   "source": [
    "Não há valores ausentes, porém temos alguns valores duplicados, vamos excluí-los."
   ]
  },
  {
   "cell_type": "code",
   "execution_count": 10,
   "metadata": {},
   "outputs": [],
   "source": [
    "# Excluíndo registros duplicados.\n",
    "df1 = df1.drop_duplicates().reset_index(drop = True)"
   ]
  },
  {
   "cell_type": "code",
   "execution_count": 11,
   "metadata": {},
   "outputs": [
    {
     "data": {
      "text/plain": [
       "(91290, 2)"
      ]
     },
     "execution_count": 11,
     "metadata": {},
     "output_type": "execute_result"
    }
   ],
   "source": [
    "# Dimensão do dataframe.\n",
    "df1.shape"
   ]
  },
  {
   "cell_type": "code",
   "execution_count": 12,
   "metadata": {},
   "outputs": [
    {
     "data": {
      "text/html": [
       "<div>\n",
       "<style scoped>\n",
       "    .dataframe tbody tr th:only-of-type {\n",
       "        vertical-align: middle;\n",
       "    }\n",
       "\n",
       "    .dataframe tbody tr th {\n",
       "        vertical-align: top;\n",
       "    }\n",
       "\n",
       "    .dataframe thead th {\n",
       "        text-align: right;\n",
       "    }\n",
       "</style>\n",
       "<table border=\"1\" class=\"dataframe\">\n",
       "  <thead>\n",
       "    <tr style=\"text-align: right;\">\n",
       "      <th></th>\n",
       "      <th>review_text</th>\n",
       "      <th>rating</th>\n",
       "    </tr>\n",
       "  </thead>\n",
       "  <tbody>\n",
       "    <tr>\n",
       "      <th>0</th>\n",
       "      <td>Comprei um TV Box dia 14 /12/ 2017 e ate agora as americanas não Devovel o meu dinheiro. Ja Fiz de tudo pre entrar em contato com essa empresa mas os fones que  sao disponiveis por ela nao existem. pre mim isso se chama CALOTE.</td>\n",
       "      <td>1</td>\n",
       "    </tr>\n",
       "    <tr>\n",
       "      <th>1</th>\n",
       "      <td>Considerando seu custo, é ótimo som com muita qualidade.</td>\n",
       "      <td>4</td>\n",
       "    </tr>\n",
       "    <tr>\n",
       "      <th>2</th>\n",
       "      <td>Simplesmente é a melhor que já vi... ela é linda, grande, fácil de montar e praticamente ela se autoconfigura sozinha. Parece que vc está no computador. O som é ótimo e a definição de imagem me deixou apaixonada. A entrega foi muito rápida e gostei muito da presteza e agilidade da transportadora Plimor. Pude acompanhar cada passo da entrega. Parabéns!</td>\n",
       "      <td>5</td>\n",
       "    </tr>\n",
       "    <tr>\n",
       "      <th>3</th>\n",
       "      <td>Estou muito satisfeita com o produto é a entrega no prazo.</td>\n",
       "      <td>4</td>\n",
       "    </tr>\n",
       "    <tr>\n",
       "      <th>4</th>\n",
       "      <td>A gaiola é muito bonita. Colorida e grande. Algumas grades ficaram meio soltas,mas ainda valeu a pena.</td>\n",
       "      <td>3</td>\n",
       "    </tr>\n",
       "  </tbody>\n",
       "</table>\n",
       "</div>"
      ],
      "text/plain": [
       "                                                                                                                                                                                                                                                                                                                                                         review_text  \\\n",
       "0                                                                                                                                Comprei um TV Box dia 14 /12/ 2017 e ate agora as americanas não Devovel o meu dinheiro. Ja Fiz de tudo pre entrar em contato com essa empresa mas os fones que  sao disponiveis por ela nao existem. pre mim isso se chama CALOTE.   \n",
       "1                                                                                                                                                                                                                                                                                                           Considerando seu custo, é ótimo som com muita qualidade.   \n",
       "2  Simplesmente é a melhor que já vi... ela é linda, grande, fácil de montar e praticamente ela se autoconfigura sozinha. Parece que vc está no computador. O som é ótimo e a definição de imagem me deixou apaixonada. A entrega foi muito rápida e gostei muito da presteza e agilidade da transportadora Plimor. Pude acompanhar cada passo da entrega. Parabéns!   \n",
       "3                                                                                                                                                                                                                                                                                                         Estou muito satisfeita com o produto é a entrega no prazo.   \n",
       "4                                                                                                                                                                                                                                                             A gaiola é muito bonita. Colorida e grande. Algumas grades ficaram meio soltas,mas ainda valeu a pena.   \n",
       "\n",
       "   rating  \n",
       "0       1  \n",
       "1       4  \n",
       "2       5  \n",
       "3       4  \n",
       "4       3  "
      ]
     },
     "execution_count": 12,
     "metadata": {},
     "output_type": "execute_result"
    }
   ],
   "source": [
    "# Visualizando o dataframe.\n",
    "df1.head()"
   ]
  },
  {
   "cell_type": "markdown",
   "metadata": {},
   "source": [
    "Essa é a base de dados que iremos utilizar nesse projeto.\n",
    "\n",
    "Agora, temos que pré-processar esses dados."
   ]
  },
  {
   "cell_type": "markdown",
   "metadata": {},
   "source": [
    "## 3. Pré-Processamento dos Dados"
   ]
  },
  {
   "cell_type": "markdown",
   "metadata": {},
   "source": [
    "Nessa etapa, iremos preparar os dados para a etapa de modelagem preditiva.\n",
    "\n",
    "Vamos iniciar pela variável **`rating`**."
   ]
  },
  {
   "cell_type": "code",
   "execution_count": 13,
   "metadata": {},
   "outputs": [
    {
     "data": {
      "text/plain": [
       "5    33033\n",
       "4    22492\n",
       "1    18579\n",
       "3    11332\n",
       "2     5854\n",
       "Name: rating, dtype: int64"
      ]
     },
     "execution_count": 13,
     "metadata": {},
     "output_type": "execute_result"
    }
   ],
   "source": [
    "# Contagem de registros.\n",
    "df1['rating'].value_counts()"
   ]
  },
  {
   "cell_type": "code",
   "execution_count": 14,
   "metadata": {},
   "outputs": [
    {
     "data": {
      "image/png": "[encoded data removed]",
      "text/plain": [
       "<Figure size 1080x720 with 1 Axes>"
      ]
     },
     "metadata": {},
     "output_type": "display_data"
    }
   ],
   "source": [
    "# Variável rating.\n",
    "p1 = sns.countplot(x = 'rating', \n",
    "                   color = 'blue', \n",
    "                   alpha = 0.7,\n",
    "                   data = df1)\n",
    "p1.set_title('Distruição das Classes de Avaliação', size = 15);"
   ]
  },
  {
   "cell_type": "markdown",
   "metadata": {},
   "source": [
    "Como vimos, essa variável possui 5 classes que se referem as notas das avaliações dos usuários."
   ]
  },
  {
   "cell_type": "markdown",
   "metadata": {},
   "source": [
    "### 3.1 Balanceamento de Classes"
   ]
  },
  {
   "cell_type": "markdown",
   "metadata": {},
   "source": [
    "Com base na plotagem acima, fica claro que as classes dessa variável estão desbalanceadas. \n",
    "\n",
    "Como nosso objetivo é classificar tweets da BlackFriday em positivos ou negativos, precisamos treinar um modelo com um conjunto que possua esses rótulos e que esteja balanceado.\n",
    "\n",
    "Nesse sentido, vamos separar as classes dessa variável da seguinte forma:\n",
    "\n",
    "- Avaliações com valores 1 e 2 serão consideradas negativas.\n",
    "- Avaliações com valor 5 serão consideradas positivas. \n",
    "\n",
    "Após essa separação, selecionaremos 20.000 amostras de cada conjunto, resultando em um *corpus* igualmente distribuído.\n",
    "\n",
    "O *corpus* nada mais é que o conjunto de textos que utilizaremos como base para o treinamento."
   ]
  },
  {
   "cell_type": "code",
   "execution_count": 15,
   "metadata": {},
   "outputs": [],
   "source": [
    "# Separando as amostras.\n",
    "\n",
    "# Amostras positivas.\n",
    "pos = df1[['review_text', 'rating']][df1['rating'] == 5]\n",
    "\n",
    "# Amostras negativas.\n",
    "neg = df1[['review_text', 'rating']][df1['rating'] <= 2]\n",
    "\n",
    "# Concatenando as amostras em um novo objeto.\n",
    "df_aux = pd.concat([pos, neg])"
   ]
  },
  {
   "cell_type": "code",
   "execution_count": 16,
   "metadata": {},
   "outputs": [
    {
     "data": {
      "text/html": [
       "<div>\n",
       "<style scoped>\n",
       "    .dataframe tbody tr th:only-of-type {\n",
       "        vertical-align: middle;\n",
       "    }\n",
       "\n",
       "    .dataframe tbody tr th {\n",
       "        vertical-align: top;\n",
       "    }\n",
       "\n",
       "    .dataframe thead th {\n",
       "        text-align: right;\n",
       "    }\n",
       "</style>\n",
       "<table border=\"1\" class=\"dataframe\">\n",
       "  <thead>\n",
       "    <tr style=\"text-align: right;\">\n",
       "      <th></th>\n",
       "      <th>review_text</th>\n",
       "      <th>rating</th>\n",
       "    </tr>\n",
       "  </thead>\n",
       "  <tbody>\n",
       "    <tr>\n",
       "      <th>2</th>\n",
       "      <td>Simplesmente é a melhor que já vi... ela é linda, grande, fácil de montar e praticamente ela se autoconfigura sozinha. Parece que vc está no computador. O som é ótimo e a definição de imagem me deixou apaixonada. A entrega foi muito rápida e gostei muito da presteza e agilidade da transportadora Plimor. Pude acompanhar cada passo da entrega. Parabéns!</td>\n",
       "      <td>5</td>\n",
       "    </tr>\n",
       "    <tr>\n",
       "      <th>5</th>\n",
       "      <td>produto com qualidade original hp. a multifuncional reconheceu sem problema</td>\n",
       "      <td>5</td>\n",
       "    </tr>\n",
       "    <tr>\n",
       "      <th>10</th>\n",
       "      <td>Com esse valor promocional, eu coloquei minha moto a venda pra adquirir essa chave... Pois pelo valor ela deve q trabalha sózinha, só no comando de voz.</td>\n",
       "      <td>5</td>\n",
       "    </tr>\n",
       "    <tr>\n",
       "      <th>11</th>\n",
       "      <td>Chegou bem antes do prazo, é nota 10 o aparelho!!!!</td>\n",
       "      <td>5</td>\n",
       "    </tr>\n",
       "    <tr>\n",
       "      <th>16</th>\n",
       "      <td>Tudo perfeito, um excelente smartfone é um ótimo custo beneficio!</td>\n",
       "      <td>5</td>\n",
       "    </tr>\n",
       "  </tbody>\n",
       "</table>\n",
       "</div>"
      ],
      "text/plain": [
       "                                                                                                                                                                                                                                                                                                                                                          review_text  \\\n",
       "2   Simplesmente é a melhor que já vi... ela é linda, grande, fácil de montar e praticamente ela se autoconfigura sozinha. Parece que vc está no computador. O som é ótimo e a definição de imagem me deixou apaixonada. A entrega foi muito rápida e gostei muito da presteza e agilidade da transportadora Plimor. Pude acompanhar cada passo da entrega. Parabéns!   \n",
       "5                                                                                                                                                                                                                                                                                         produto com qualidade original hp. a multifuncional reconheceu sem problema   \n",
       "10                                                                                                                                                                                                           Com esse valor promocional, eu coloquei minha moto a venda pra adquirir essa chave... Pois pelo valor ela deve q trabalha sózinha, só no comando de voz.   \n",
       "11                                                                                                                                                                                                                                                                                                                Chegou bem antes do prazo, é nota 10 o aparelho!!!!   \n",
       "16                                                                                                                                                                                                                                                                                                  Tudo perfeito, um excelente smartfone é um ótimo custo beneficio!   \n",
       "\n",
       "    rating  \n",
       "2        5  \n",
       "5        5  \n",
       "10       5  \n",
       "11       5  \n",
       "16       5  "
      ]
     },
     "execution_count": 16,
     "metadata": {},
     "output_type": "execute_result"
    }
   ],
   "source": [
    "# Visualizando o dataframe.\n",
    "df_aux.head()"
   ]
  },
  {
   "cell_type": "markdown",
   "metadata": {},
   "source": [
    "O dataframe acima, possui apenas as amostras com avaliações 1, 2 e 5.\n",
    "\n",
    "Vamos atribuir o label \"Positivo\" e \"Negativo\" de acordo com as avaliações dos usuários. "
   ]
  },
  {
   "cell_type": "code",
   "execution_count": 17,
   "metadata": {},
   "outputs": [],
   "source": [
    "# Dicionário de valores.\n",
    "maping = {5:'Positivo', \n",
    "          2:'Negativo', \n",
    "          1:'Negativo'}\n",
    "\n",
    "# Atribuindo os labels.\n",
    "df_aux = df_aux.replace(maping)"
   ]
  },
  {
   "cell_type": "code",
   "execution_count": 18,
   "metadata": {},
   "outputs": [
    {
     "data": {
      "text/html": [
       "<div>\n",
       "<style scoped>\n",
       "    .dataframe tbody tr th:only-of-type {\n",
       "        vertical-align: middle;\n",
       "    }\n",
       "\n",
       "    .dataframe tbody tr th {\n",
       "        vertical-align: top;\n",
       "    }\n",
       "\n",
       "    .dataframe thead th {\n",
       "        text-align: right;\n",
       "    }\n",
       "</style>\n",
       "<table border=\"1\" class=\"dataframe\">\n",
       "  <thead>\n",
       "    <tr style=\"text-align: right;\">\n",
       "      <th></th>\n",
       "      <th>review_text</th>\n",
       "      <th>rating</th>\n",
       "    </tr>\n",
       "  </thead>\n",
       "  <tbody>\n",
       "    <tr>\n",
       "      <th>2</th>\n",
       "      <td>Simplesmente é a melhor que já vi... ela é linda, grande, fácil de montar e praticamente ela se autoconfigura sozinha. Parece que vc está no computador. O som é ótimo e a definição de imagem me deixou apaixonada. A entrega foi muito rápida e gostei muito da presteza e agilidade da transportadora Plimor. Pude acompanhar cada passo da entrega. Parabéns!</td>\n",
       "      <td>Positivo</td>\n",
       "    </tr>\n",
       "    <tr>\n",
       "      <th>5</th>\n",
       "      <td>produto com qualidade original hp. a multifuncional reconheceu sem problema</td>\n",
       "      <td>Positivo</td>\n",
       "    </tr>\n",
       "    <tr>\n",
       "      <th>10</th>\n",
       "      <td>Com esse valor promocional, eu coloquei minha moto a venda pra adquirir essa chave... Pois pelo valor ela deve q trabalha sózinha, só no comando de voz.</td>\n",
       "      <td>Positivo</td>\n",
       "    </tr>\n",
       "    <tr>\n",
       "      <th>11</th>\n",
       "      <td>Chegou bem antes do prazo, é nota 10 o aparelho!!!!</td>\n",
       "      <td>Positivo</td>\n",
       "    </tr>\n",
       "    <tr>\n",
       "      <th>16</th>\n",
       "      <td>Tudo perfeito, um excelente smartfone é um ótimo custo beneficio!</td>\n",
       "      <td>Positivo</td>\n",
       "    </tr>\n",
       "  </tbody>\n",
       "</table>\n",
       "</div>"
      ],
      "text/plain": [
       "                                                                                                                                                                                                                                                                                                                                                          review_text  \\\n",
       "2   Simplesmente é a melhor que já vi... ela é linda, grande, fácil de montar e praticamente ela se autoconfigura sozinha. Parece que vc está no computador. O som é ótimo e a definição de imagem me deixou apaixonada. A entrega foi muito rápida e gostei muito da presteza e agilidade da transportadora Plimor. Pude acompanhar cada passo da entrega. Parabéns!   \n",
       "5                                                                                                                                                                                                                                                                                         produto com qualidade original hp. a multifuncional reconheceu sem problema   \n",
       "10                                                                                                                                                                                                           Com esse valor promocional, eu coloquei minha moto a venda pra adquirir essa chave... Pois pelo valor ela deve q trabalha sózinha, só no comando de voz.   \n",
       "11                                                                                                                                                                                                                                                                                                                Chegou bem antes do prazo, é nota 10 o aparelho!!!!   \n",
       "16                                                                                                                                                                                                                                                                                                  Tudo perfeito, um excelente smartfone é um ótimo custo beneficio!   \n",
       "\n",
       "      rating  \n",
       "2   Positivo  \n",
       "5   Positivo  \n",
       "10  Positivo  \n",
       "11  Positivo  \n",
       "16  Positivo  "
      ]
     },
     "execution_count": 18,
     "metadata": {},
     "output_type": "execute_result"
    }
   ],
   "source": [
    "# Visualizando o dataframe.\n",
    "df_aux.head()"
   ]
  },
  {
   "cell_type": "markdown",
   "metadata": {},
   "source": [
    "Vamos selecionar randomicamente as amostras para cada classe. "
   ]
  },
  {
   "cell_type": "code",
   "execution_count": 19,
   "metadata": {},
   "outputs": [],
   "source": [
    "# Definindo um \"seed\".\n",
    "np.random.seed(seed = 100)\n",
    "\n",
    "# Selecionando as amostras.\n",
    "pos = np.random.choice(df_aux['review_text'][df_aux['rating'] == 'Positivo'], 19999, replace = False)\n",
    "neg = np.random.choice(df_aux['review_text'][df_aux['rating'] == 'Negativo'], 20000, replace = False)\n",
    "\n",
    "# Amostras selecionadas.\n",
    "select = np.concatenate([pos, neg])"
   ]
  },
  {
   "cell_type": "markdown",
   "metadata": {},
   "source": [
    "Acima, utilizamos a função *random.choice* para selecionar as amostras randômicas de cada classe. \n",
    "\n",
    "Observe que específicamos o parâmetro *replace = False*, para que o mesmo registro não seja selecionado mais de uma vez no mesmo conjunto.\n",
    "\n",
    "Após a divisão, concatenamos os dois objetos criando um novo array, que utilizaremos para filtrar o dataframe."
   ]
  },
  {
   "cell_type": "code",
   "execution_count": 20,
   "metadata": {},
   "outputs": [],
   "source": [
    "# Novo dataframe com registros balanceados. \n",
    "df2 = df_aux[df_aux['review_text'].isin(select)].reset_index(drop = True)"
   ]
  },
  {
   "cell_type": "code",
   "execution_count": 21,
   "metadata": {},
   "outputs": [
    {
     "data": {
      "text/plain": [
       "Positivo    20000\n",
       "Negativo    20000\n",
       "Name: rating, dtype: int64"
      ]
     },
     "execution_count": 21,
     "metadata": {},
     "output_type": "execute_result"
    }
   ],
   "source": [
    "# Contagem de registros.\n",
    "df2['rating'].value_counts()"
   ]
  },
  {
   "cell_type": "markdown",
   "metadata": {},
   "source": [
    "Como podemos ver na saída acima, as classes estão balanceadas."
   ]
  },
  {
   "cell_type": "markdown",
   "metadata": {},
   "source": [
    "### 3.2 Limpeza dos Dados"
   ]
  },
  {
   "cell_type": "markdown",
   "metadata": {},
   "source": [
    "Agora, vamos tratar a variável **`review_text`**. \n",
    "\n",
    "Iremos denifir nossas próprias funções para realizar o pré-processamento dos textos da variável.\n",
    "\n",
    "Teremos como objetivo: \n",
    "\n",
    "- Remover palavras irrelevantes e acentuações.\n",
    "- Substituir letras maíusculas por minúsculas.\n",
    "- Aplicar a lematização.\n",
    "- Converter textos para vetores numéricos."
   ]
  },
  {
   "cell_type": "code",
   "execution_count": 22,
   "metadata": {},
   "outputs": [],
   "source": [
    "# Definindo a classe.\n",
    "\n",
    "# Carregando o pipeline em português.\n",
    "nlp = spacy.load('pt_core_news_sm')\n",
    "\n",
    "# Criando a classe.\n",
    "class DataPrep:\n",
    "    \n",
    "    # Função para remover acentos e cedilha.    \n",
    "    def rm_accents(self, texto) -> list:\n",
    "        fixed = list()\n",
    "        for linha in texto:\n",
    "            unidecoded_text = unidecode(linha)\n",
    "            fixed.append(unidecoded_text)\n",
    "        return fixed\n",
    "    \n",
    "    # Definindo a função de stopwords.    \n",
    "    def remove_stopwords(self, texto):\n",
    "        stop_words = [word for word in nlp.Defaults.stop_words]\n",
    "        remover = ['lojas', 'americanas', 'americana', 'submarino', 'shoptime']\n",
    "        stop_words.extend(remover)\n",
    "        texto_limpo = \" \".join([i for i in texto if i not in set(stop_words)])\n",
    "        return texto_limpo\n",
    "    \n",
    "    # Função para aplicar a limpeza no corpus (remove stopwords, acentos e letras maíusculas).\n",
    "    def clean_text(self, texto):\n",
    "        df_corpus = []\n",
    "        for i in range(len(texto)):\n",
    "            df_c = re.sub('[^A-Za-záàâãéèêíïóôõöúçñÁÀÂÃÉÈÍÏÓÔÕÖÚÇÑ]', ' ', texto[i]).lower().split()\n",
    "            df_corpus.append(df_c)\n",
    "        df_corpus = pd.Series(df_corpus).apply(lambda x: ' '.join([w for w in x if len(w) > 2]))\n",
    "        corpus = [self.remove_stopwords(r.split()) for r in df_corpus]\n",
    "        return corpus\n",
    "    \n",
    "    # Funções para aplicar a lematização.\n",
    "    def lemmatization(self, texto):\n",
    "        global nlp        \n",
    "        output = []\n",
    "        for sent in texto:\n",
    "            doc = nlp(\" \".join(sent)) \n",
    "            output.append([token.lemma_ for token in doc])\n",
    "        return output\n",
    "    \n",
    "    def lemmatize(self, texto):\n",
    "        token = self.lemmatization(pd.Series(self.clean_text(texto)).apply(lambda x: x.split()))\n",
    "        token_lemma = []\n",
    "        for i in range(len(token)):\n",
    "            token_lemma.append(' '.join(token[i]))\n",
    "        return token_lemma"
   ]
  },
  {
   "cell_type": "markdown",
   "metadata": {},
   "source": [
    "Com as funções definidas, podemos testá-las. \n",
    "\n",
    "Vamos visualizar uma amostra dos dados antes de realizar o tratamento."
   ]
  },
  {
   "cell_type": "code",
   "execution_count": 23,
   "metadata": {},
   "outputs": [
    {
     "data": {
      "text/html": [
       "<div>\n",
       "<style scoped>\n",
       "    .dataframe tbody tr th:only-of-type {\n",
       "        vertical-align: middle;\n",
       "    }\n",
       "\n",
       "    .dataframe tbody tr th {\n",
       "        vertical-align: top;\n",
       "    }\n",
       "\n",
       "    .dataframe thead th {\n",
       "        text-align: right;\n",
       "    }\n",
       "</style>\n",
       "<table border=\"1\" class=\"dataframe\">\n",
       "  <thead>\n",
       "    <tr style=\"text-align: right;\">\n",
       "      <th></th>\n",
       "      <th>review_text</th>\n",
       "    </tr>\n",
       "  </thead>\n",
       "  <tbody>\n",
       "    <tr>\n",
       "      <th>0</th>\n",
       "      <td>produto com qualidade original hp. a multifuncional reconheceu sem problema</td>\n",
       "    </tr>\n",
       "    <tr>\n",
       "      <th>1</th>\n",
       "      <td>Com esse valor promocional, eu coloquei minha moto a venda pra adquirir essa chave... Pois pelo valor ela deve q trabalha sózinha, só no comando de voz.</td>\n",
       "    </tr>\n",
       "    <tr>\n",
       "      <th>2</th>\n",
       "      <td>Chegou bem antes do prazo, é nota 10 o aparelho!!!!</td>\n",
       "    </tr>\n",
       "    <tr>\n",
       "      <th>3</th>\n",
       "      <td>Tudo perfeito, um excelente smartfone é um ótimo custo beneficio!</td>\n",
       "    </tr>\n",
       "    <tr>\n",
       "      <th>4</th>\n",
       "      <td>O celular e otimo, a camera e excelente, muita memoria. A entrega da Aamericanas foi maravilhosa e o melhor custo beneficio, pesquisei muito o preço e o melhor preço foi daqui. Recomendo.</td>\n",
       "    </tr>\n",
       "  </tbody>\n",
       "</table>\n",
       "</div>"
      ],
      "text/plain": [
       "                                                                                                                                                                                   review_text\n",
       "0                                                                                                                  produto com qualidade original hp. a multifuncional reconheceu sem problema\n",
       "1                                     Com esse valor promocional, eu coloquei minha moto a venda pra adquirir essa chave... Pois pelo valor ela deve q trabalha sózinha, só no comando de voz.\n",
       "2                                                                                                                                          Chegou bem antes do prazo, é nota 10 o aparelho!!!!\n",
       "3                                                                                                                            Tudo perfeito, um excelente smartfone é um ótimo custo beneficio!\n",
       "4  O celular e otimo, a camera e excelente, muita memoria. A entrega da Aamericanas foi maravilhosa e o melhor custo beneficio, pesquisei muito o preço e o melhor preço foi daqui. Recomendo."
      ]
     },
     "execution_count": 23,
     "metadata": {},
     "output_type": "execute_result"
    }
   ],
   "source": [
    "# Dados antes do tratamento.\n",
    "df2[['review_text']].head()"
   ]
  },
  {
   "cell_type": "markdown",
   "metadata": {},
   "source": [
    "Observe que na amostra acima, os textos possuem acentos, pontos, vírgulas, cês-cedilhas, e letras maíusculas.\n",
    "\n",
    "Com as funções que definimos devemos resolver esses problemas."
   ]
  },
  {
   "cell_type": "code",
   "execution_count": 24,
   "metadata": {},
   "outputs": [],
   "source": [
    "# Instanciando a classe.\n",
    "dp = DataPrep()"
   ]
  },
  {
   "cell_type": "code",
   "execution_count": 25,
   "metadata": {},
   "outputs": [],
   "source": [
    "# Removendo acentos e cedilhas.\n",
    "df2['review_text'] = dp.rm_accents(df2['review_text'])"
   ]
  },
  {
   "cell_type": "code",
   "execution_count": 26,
   "metadata": {},
   "outputs": [],
   "source": [
    "# Removendo stopwords e letras maíusculas.\n",
    "df2['review_text'] = dp.clean_text(df2['review_text'])"
   ]
  },
  {
   "cell_type": "code",
   "execution_count": 27,
   "metadata": {},
   "outputs": [
    {
     "data": {
      "text/html": [
       "<div>\n",
       "<style scoped>\n",
       "    .dataframe tbody tr th:only-of-type {\n",
       "        vertical-align: middle;\n",
       "    }\n",
       "\n",
       "    .dataframe tbody tr th {\n",
       "        vertical-align: top;\n",
       "    }\n",
       "\n",
       "    .dataframe thead th {\n",
       "        text-align: right;\n",
       "    }\n",
       "</style>\n",
       "<table border=\"1\" class=\"dataframe\">\n",
       "  <thead>\n",
       "    <tr style=\"text-align: right;\">\n",
       "      <th></th>\n",
       "      <th>review_text</th>\n",
       "    </tr>\n",
       "  </thead>\n",
       "  <tbody>\n",
       "    <tr>\n",
       "      <th>0</th>\n",
       "      <td>produto qualidade original multifuncional reconheceu problema</td>\n",
       "    </tr>\n",
       "    <tr>\n",
       "      <th>1</th>\n",
       "      <td>promocional coloquei moto venda pra adquirir chave trabalha sozinha comando voz</td>\n",
       "    </tr>\n",
       "    <tr>\n",
       "      <th>2</th>\n",
       "      <td>chegou prazo nota aparelho</td>\n",
       "    </tr>\n",
       "    <tr>\n",
       "      <th>3</th>\n",
       "      <td>perfeito excelente smartfone otimo custo beneficio</td>\n",
       "    </tr>\n",
       "    <tr>\n",
       "      <th>4</th>\n",
       "      <td>celular otimo camera excelente muita memoria entrega aamericanas maravilhosa melhor custo beneficio pesquisei preco melhor preco daqui recomendo</td>\n",
       "    </tr>\n",
       "  </tbody>\n",
       "</table>\n",
       "</div>"
      ],
      "text/plain": [
       "                                                                                                                                        review_text\n",
       "0                                                                                     produto qualidade original multifuncional reconheceu problema\n",
       "1                                                                   promocional coloquei moto venda pra adquirir chave trabalha sozinha comando voz\n",
       "2                                                                                                                        chegou prazo nota aparelho\n",
       "3                                                                                                perfeito excelente smartfone otimo custo beneficio\n",
       "4  celular otimo camera excelente muita memoria entrega aamericanas maravilhosa melhor custo beneficio pesquisei preco melhor preco daqui recomendo"
      ]
     },
     "execution_count": 27,
     "metadata": {},
     "output_type": "execute_result"
    }
   ],
   "source": [
    "# Dados após do tratamento.\n",
    "df2[['review_text']].head()"
   ]
  },
  {
   "cell_type": "markdown",
   "metadata": {},
   "source": [
    "Nossas funções funcionaram como esperado!\n",
    "\n",
    "Podemos partir para a lematização."
   ]
  },
  {
   "cell_type": "markdown",
   "metadata": {},
   "source": [
    "#### 3.2.1 Lematização"
   ]
  },
  {
   "cell_type": "markdown",
   "metadata": {},
   "source": [
    "A lematização diz respeito ao processo de agrupar as formas flexionadas de uma palavra para que possam ser analisadas como um único item, identificado pelo \"lema\" da palavra. \n",
    "\n",
    "Por exemplo, as palavras “gato”, “gata”, “gatos” e “gatas” são todas formas do mesmo lema: “gato”. \n",
    "\n",
    "Igualmente, as palavras “tiver”, “tenho”, “tinha”, “tem” são formas do mesmo lema: “ter”. \n",
    "\n",
    "A vantagem de aplicar a lematização é clara: redução de vocabulário e abstração de significado.\n",
    "\n",
    "Existem pacotes com funções prontas para realizar a lematização, mas aqui, vamos utilizar a função que definimos na classe *DataPrep*. \n",
    "\n",
    "Iremos salvar o resultado desse tratamento na variável *corpus*."
   ]
  },
  {
   "cell_type": "code",
   "execution_count": 28,
   "metadata": {},
   "outputs": [],
   "source": [
    "# Aplicando a lematização.\n",
    "corpus = dp.lemmatize(df2['review_text'])"
   ]
  },
  {
   "cell_type": "markdown",
   "metadata": {},
   "source": [
    "#### 3.2.2 Conversão dos Textos para Vetores Numéricos"
   ]
  },
  {
   "cell_type": "markdown",
   "metadata": {},
   "source": [
    "Para realizar essa tarefa, iremos utilizar uma técnica chamada TF-IDF.\n",
    "\n",
    "TF-IDF de forma traduzida, significa \"Frequência do Termo - Frequência Inversa de Documentos\".\n",
    "\n",
    "Sabemos que os computadores \"entendem\" apenas dados numéricos, então, por esse motivo, vetorizamos todo o texto para que o computador possa compreendê-lo.\n",
    "\n",
    "Geralmente calculamos um peso para cada palavra, e esse peso significa a importância da palavra dentro do corpus.\n",
    "\n",
    "Para essa tarefa, utilizaremos a classe <a href='https://scikit-learn.org/stable/modules/generated/sklearn.feature_extraction.text.TfidfVectorizer.html'>*TfidfVectorizer()*</a> presente no Scikit-Learn e definiremos alguns hiperparâmetros: \n",
    "\n",
    "- **min_df**: desconsidera termos que aparecem menos que \"X\" vezes.\n",
    "- **max_df**: usado para excluir termos que são muito frequentes e que provavelmente não ajudarão na previsão do modelo.\n",
    "- **ngram_range**: define o intervalo de valor desejado (unigramas, bigramas, trigramas, n-grama).\n",
    "- **max_features**: número de termos mais frequentes para se considerar."
   ]
  },
  {
   "cell_type": "code",
   "execution_count": 29,
   "metadata": {},
   "outputs": [],
   "source": [
    "# Instanciando o objeto.\n",
    "vectorizer = TfidfVectorizer(min_df = 2, \n",
    "                             max_df = 0.75,\n",
    "                             ngram_range = (1,1), \n",
    "                             max_features = 15000)"
   ]
  },
  {
   "cell_type": "code",
   "execution_count": 30,
   "metadata": {},
   "outputs": [
    {
     "name": "stdout",
     "output_type": "stream",
     "text": [
      "X shape:  (40000, 8549) \n",
      "y shape:  (40000,)\n"
     ]
    }
   ],
   "source": [
    "# Aplicando a transformação.\n",
    "X = vectorizer.fit_transform(corpus).toarray()\n",
    "y = df2.iloc[:,-1].values\n",
    "\n",
    "print('X shape: ', X.shape, '\\ny shape: ', y.shape)"
   ]
  },
  {
   "cell_type": "markdown",
   "metadata": {},
   "source": [
    "## 4. Modelagem Preditiva"
   ]
  },
  {
   "cell_type": "markdown",
   "metadata": {},
   "source": [
    "Com os dados devidamente pré-processados, podemos dar inicio a etapa de modelagem preditiva. \n",
    "\n",
    "Como dito no início do projeto, iremos utilizar o algoritmo *Naive Bayes*, muito popular para problemas de classificação de textos.\n",
    "\n",
    "Em meu blog de estudos, há um artigo explicando detalhadamente como esse algoritmo funciona, basta acessar <a href='https://medium.com/@rafaelfelippe_/modelo-bayesiano-naive-bayes-50353ade5984'>este link</a>.\n",
    "\n",
    "Iniciaremos essa etapa, separando os dados em conjuntos de treino e teste."
   ]
  },
  {
   "cell_type": "code",
   "execution_count": 31,
   "metadata": {},
   "outputs": [],
   "source": [
    "# Divisão treino/teste.\n",
    "X_train, X_test, y_train, y_test = train_test_split(X, y, test_size = 0.3, random_state = 42)"
   ]
  },
  {
   "cell_type": "code",
   "execution_count": 32,
   "metadata": {},
   "outputs": [
    {
     "name": "stdout",
     "output_type": "stream",
     "text": [
      "Registros de Treino: 28000\n",
      "Registros de Teste: 12000\n"
     ]
    }
   ],
   "source": [
    "# Dimensão dos conjuntos.\n",
    "print('Registros de Treino: {}'.format(len(X_train)))\n",
    "print('Registros de Teste: {}'.format(len(X_test)))"
   ]
  },
  {
   "cell_type": "code",
   "execution_count": 33,
   "metadata": {},
   "outputs": [],
   "source": [
    "# Instanciando o modelo.\n",
    "classifier_nb = MultinomialNB()"
   ]
  },
  {
   "cell_type": "code",
   "execution_count": 34,
   "metadata": {},
   "outputs": [
    {
     "data": {
      "text/plain": [
       "MultinomialNB()"
      ]
     },
     "execution_count": 34,
     "metadata": {},
     "output_type": "execute_result"
    }
   ],
   "source": [
    "# Treinando o modelo.\n",
    "classifier_nb.fit(X_train, y_train)"
   ]
  },
  {
   "cell_type": "markdown",
   "metadata": {},
   "source": [
    "Como o modelo treinado, podemos apresentar os dados de teste."
   ]
  },
  {
   "cell_type": "code",
   "execution_count": 35,
   "metadata": {},
   "outputs": [],
   "source": [
    "# Previsões com dados de teste.\n",
    "y_pred = classifier_nb.predict(X_test)\n",
    "y_pred_prob = classifier_nb.predict_proba(X_test)"
   ]
  },
  {
   "cell_type": "markdown",
   "metadata": {},
   "source": [
    "Vamos verificar algumas métricas de performance do modelo."
   ]
  },
  {
   "cell_type": "code",
   "execution_count": 36,
   "metadata": {},
   "outputs": [
    {
     "name": "stdout",
     "output_type": "stream",
     "text": [
      "              precision    recall  f1-score   support\n",
      "\n",
      "    Negativo       0.90      0.94      0.92      6003\n",
      "    Positivo       0.94      0.90      0.92      5997\n",
      "\n",
      "    accuracy                           0.92     12000\n",
      "   macro avg       0.92      0.92      0.92     12000\n",
      "weighted avg       0.92      0.92      0.92     12000\n",
      "\n"
     ]
    }
   ],
   "source": [
    "# Avaliação do modelo.\n",
    "print(classification_report(y_test, y_pred))"
   ]
  },
  {
   "cell_type": "markdown",
   "metadata": {},
   "source": [
    "Interpretação das métricas:\n",
    "\n",
    "\n",
    "- **Precision**: dentre todas as previsões realizadas para uma classe, quantas o modelo acertou.\n",
    "\n",
    "- **Recall**: dentre todos os registros reais de uma classe, quantos foram classificados corretamente.\n",
    "\n",
    "- **F1-score**: média harmônica entre *precision* e *recall*.\n",
    "\n",
    "- **Accuracy**: indica uma performance geral do modelo, dentre todas as classificações, quantas o modelo classificou corretamente.\n",
    "\n",
    "\n",
    "Outra forma de avaliar o modelo é através da matriz de confusão."
   ]
  },
  {
   "cell_type": "code",
   "execution_count": 37,
   "metadata": {},
   "outputs": [
    {
     "name": "stdout",
     "output_type": "stream",
     "text": [
      "Matriz de Confusão:\n",
      " [[5403  594]\n",
      " [ 362 5641]]\n"
     ]
    }
   ],
   "source": [
    "# Matriz de confusão\n",
    "conf_test = confusion_matrix(y_test, y_pred, labels = ['Positivo', 'Negativo'])\n",
    "print('Matriz de Confusão:\\n', (conf_test))"
   ]
  },
  {
   "cell_type": "markdown",
   "metadata": {},
   "source": [
    "Interpretação:\n",
    "\n",
    "- 5403 amostras da classe positiva foram classificadas corretamente.\n",
    "- 594 amostras da classe positiva foram classificadas erroneamente para a classe negativa.\n",
    "- 362 amostras da classe negativa foram classificadas erroneamente para a classe positiva.\n",
    "- 5641 amostras da classe negativa foram classificadas corretamente."
   ]
  },
  {
   "cell_type": "markdown",
   "metadata": {},
   "source": [
    "### 4.1 Testando o Modelo com Novos Dados"
   ]
  },
  {
   "cell_type": "markdown",
   "metadata": {},
   "source": [
    "Nesse etapa, vamos criar algumas frases parecidas com tweets para verificarmos o desempenho do modelo. "
   ]
  },
  {
   "cell_type": "code",
   "execution_count": 38,
   "metadata": {},
   "outputs": [],
   "source": [
    "# Frases de testes.\n",
    "testes = ['Meu iphone chegooou! essa black friday rendeu!',\n",
    "          'Comprei 2 jogos na psn pelo preco de 1, muito top! haha',\n",
    "          'Não consigo encontrar a bike que eu queriaaaaaa... #triste&semdinheiro',\n",
    "          'Comprei um relógio na black friday porém veio com a tela quebrada :(',\n",
    "          'Essa black friday é muito boa, tudo pela metade do dobro!']"
   ]
  },
  {
   "cell_type": "markdown",
   "metadata": {},
   "source": [
    "Como testes para o modelo criamos 5 frases: duas positivas, duas negativas, e a última que contém termos positivos, porém de forma irônica. \n",
    "\n",
    "Assim como fizemos com os dados de treino, precisamos realizar o pré-processamento nesses dados."
   ]
  },
  {
   "cell_type": "code",
   "execution_count": 39,
   "metadata": {},
   "outputs": [],
   "source": [
    "# Limpando os dados.\n",
    "testes = dp.rm_accents(testes)\n",
    "corpus2 = dp.lemmatize(testes)"
   ]
  },
  {
   "cell_type": "code",
   "execution_count": 40,
   "metadata": {},
   "outputs": [
    {
     "data": {
      "text/plain": [
       "['iphone chegooou black friday render',\n",
       " 'comprar jogo psn preco top haha',\n",
       " 'nao conseguir encontrar bike queriaaaaaa triste semdinheiro',\n",
       " 'comprar relogio black friday pôr vir tela quebrar',\n",
       " 'black friday dois dobrar']"
      ]
     },
     "execution_count": 40,
     "metadata": {},
     "output_type": "execute_result"
    }
   ],
   "source": [
    "# Dados após o tratamento.\n",
    "corpus2"
   ]
  },
  {
   "cell_type": "markdown",
   "metadata": {},
   "source": [
    "Agora, vamos aplicar a vetorização e apresentar essas novas frases ao modelo."
   ]
  },
  {
   "cell_type": "code",
   "execution_count": 41,
   "metadata": {},
   "outputs": [
    {
     "name": "stdout",
     "output_type": "stream",
     "text": [
      "\n",
      "Classificação Predita:\n",
      "[1] Positivo-------- Meu iphone chegooou! essa black friday rendeu!\n",
      "[2] Positivo-------- Comprei 2 jogos na psn pelo preco de 1, muito top! haha\n",
      "[3] Negativo-------- Nao consigo encontrar a bike que eu queriaaaaaa... #triste&semdinheiro\n",
      "[4] Negativo-------- Comprei um relogio na black friday porem veio com a tela quebrada :(\n",
      "[5] Negativo-------- Essa black friday e muito boa, tudo pela metade do dobro!\n"
     ]
    }
   ],
   "source": [
    "# Aplicando a vetorização.\n",
    "testes_transform = vectorizer.transform(corpus2)\n",
    "\n",
    "# Predição com as frases testes.\n",
    "print('\\nClassificação Predita:')\n",
    "for i in range(len(testes)):\n",
    "    print('{} {:-<16} {}'.format([i+1], classifier_nb.predict(testes_transform)[i], testes[i]))"
   ]
  },
  {
   "cell_type": "markdown",
   "metadata": {},
   "source": [
    "Todas as classificações foram feitas de maneira correta, inclusive a última, que contém irônia. \n",
    "\n",
    "Também podemos verificar as probabilidades de classificação para cada registro."
   ]
  },
  {
   "cell_type": "code",
   "execution_count": 42,
   "metadata": {},
   "outputs": [
    {
     "name": "stdout",
     "output_type": "stream",
     "text": [
      "\n",
      "Probabilidades:\n",
      "[1] [0.36, 0.64]---- Meu iphone chegooou! essa black friday rendeu!\n",
      "[2] [0.06, 0.94]---- Comprei 2 jogos na psn pelo preco de 1, muito top! haha\n",
      "[3] [0.87, 0.13]---- Nao consigo encontrar a bike que eu queriaaaaaa... #triste&semdinheiro\n",
      "[4] [0.81, 0.19]---- Comprei um relogio na black friday porem veio com a tela quebrada :(\n",
      "[5] [0.62, 0.38]---- Essa black friday e muito boa, tudo pela metade do dobro!\n"
     ]
    }
   ],
   "source": [
    "# Probabilidades das classificações.\n",
    "print('\\nProbabilidades:')\n",
    "for i in range(len(testes)):\n",
    "    print('{} {:-<16} {}'.format([i+1], str([round(x,2) for x in classifier_nb.predict_proba(testes_transform)[i].tolist()]), \n",
    "                                 testes[i]))"
   ]
  },
  {
   "cell_type": "markdown",
   "metadata": {},
   "source": [
    "Ao lado esquerdo, temos as probabilidades da frase pertencer a classe negativa e ao lado direito as probabilidades para a classe positiva.\n",
    "\n",
    "Observe que a última frase, foi a que o modelo teve maior dificuldade de classificação, porém, ainda como uma boa margem de acerto.\n",
    "\n",
    "Com isso, já temos o modelo pronto, agora, bastaria realizar a coleta dos tweets, realizar o pré-processamento nos textos e apresentá-los para o modelo fazer as previsões. \n",
    "\n",
    "Porém, antes de partimos para essa etapa, vamos realizar mais algumas análises."
   ]
  },
  {
   "cell_type": "markdown",
   "metadata": {},
   "source": [
    "## 5. Similaridade de Dados"
   ]
  },
  {
   "cell_type": "markdown",
   "metadata": {},
   "source": [
    "Deixando o objetivo principal do projeto de lado, nessa etapa queremos encontrar as similaridades entre as palavras mais frequentes do *corpus*.\n",
    "\n",
    "Para isso, utilizaremos o *Word2Vec*, um dos algoritmos mais utilizados para esse tipo de tarefa.\n",
    "\n",
    "Esse modelo usa como entrada um corpus de texto e produz um espaço vetorial, tipicamente com várias centenas de dimensões, com cada palavra exclusiva no corpus sendo atribuída a um vetor correspondente no espaço. Os vetores de palavras são posicionados no espaço vetorial, de modo que as palavras que compartilham contextos comuns no *corpus* sejam localizadas próximas umas das outras no espaço.\n",
    "\n",
    "O *Word2Vec* espera receber como entrada um corpus com uma \"sequência de frases\", onde cada frase é uma lista de palavras. \n",
    "\n",
    "Sendo assim, precisaremos realizar um pequeno tratamento nos dados."
   ]
  },
  {
   "cell_type": "code",
   "execution_count": 43,
   "metadata": {},
   "outputs": [],
   "source": [
    "# Preparando o corpus.\n",
    "sent = [line.split() for line in corpus]"
   ]
  },
  {
   "cell_type": "markdown",
   "metadata": {},
   "source": [
    "O código acima cria o objeto *sent* contendo a sequência de frases.\n",
    "\n",
    "Agora, precisamos modelar os bigramas. \n",
    "\n",
    "Os bigramas são duas palavras que ocorrem frequentemente juntas. \n",
    "\n",
    "O pacote *gensim* possui um modelo chamado *Phrases* que detecta automaticamente os bigramas presentes em nosso conjunto.\n",
    "\n",
    "Iremos definir dois parâmetros desse modelo:\n",
    "\n",
    "- **min_count**: quantas vezes uma palavra precisa aparecer, no mínimo, para ser considerada.\n",
    "\n",
    "- **threshold**: representa um limite para formar as frases (mais alto significa menos frases).\n",
    "\n",
    "Mais detalhes sobre os hiperparâmetros desse algoritmo estão disponíveis <a href='https://radimrehurek.com/gensim_3.8.3/models/phrases.html'>nesse link</a>."
   ]
  },
  {
   "cell_type": "code",
   "execution_count": 44,
   "metadata": {},
   "outputs": [],
   "source": [
    "# Instanciando o modelo.\n",
    "phrases = Phrases(sent, \n",
    "                  min_count = 1, \n",
    "                  threshold = 2)\n",
    "bigram = Phraser(phrases)"
   ]
  },
  {
   "cell_type": "code",
   "execution_count": 45,
   "metadata": {},
   "outputs": [],
   "source": [
    "# Aplicando o modelo ao corpus.\n",
    "sentences = bigram[sent]"
   ]
  },
  {
   "cell_type": "markdown",
   "metadata": {},
   "source": [
    "Após o tratamento nos dados, podemos instanciar a classe do *Word2Vec*.\n",
    "\n",
    "Também definiremos alguns valores para os hiperparâmetros:\n",
    "\n",
    "- **min_count**: quantas vezes uma palavra precisa aparecer, no mínimo, para ser considerada.\n",
    "- **window**: tamanho máximo das frases que o modelo vai analisar.\n",
    "- **sample**: limite para configurar quais palavras mais frequentes serão descartadas.\n",
    "\n",
    "Para mais detalhes sobre os hiperparâmetros desse algoritmo acesse <a href='https://radimrehurek.com/gensim/models/word2vec.html'>este link</a>."
   ]
  },
  {
   "cell_type": "code",
   "execution_count": 46,
   "metadata": {},
   "outputs": [],
   "source": [
    "# Construindo o modelo.\n",
    "w2v_model = Word2Vec(min_count = 20, \n",
    "                     window = 3, \n",
    "                     sample = 6e-5, \n",
    "                     seed = 42)"
   ]
  },
  {
   "cell_type": "markdown",
   "metadata": {},
   "source": [
    "Antes de treinar o modelo, precisamos construir o vocabulário que contém as palavras do nosso conjunto de dados."
   ]
  },
  {
   "cell_type": "code",
   "execution_count": 47,
   "metadata": {},
   "outputs": [],
   "source": [
    "# Contruindo o vocabulário.\n",
    "w2v_model.build_vocab(sentences)"
   ]
  },
  {
   "cell_type": "code",
   "execution_count": 48,
   "metadata": {},
   "outputs": [],
   "source": [
    "# Treinando o modelo.\n",
    "w2v_model.train(sentences, \n",
    "                total_examples = w2v_model.corpus_count, \n",
    "                epochs = 30);"
   ]
  },
  {
   "cell_type": "markdown",
   "metadata": {},
   "source": [
    "Com o modelo treinado, podemos utilizar o método *most_similar()* para encontrarmos os termos mais similares ou antagônicos de uma palavra."
   ]
  },
  {
   "cell_type": "code",
   "execution_count": 49,
   "metadata": {},
   "outputs": [
    {
     "data": {
      "text/plain": [
       "[('perfazer', 0.9550123810768127),\n",
       " ('otimo_vendedor', 0.9488556385040283),\n",
       " ('vao_arrepender', 0.9455452561378479),\n",
       " ('valer_apena', 0.9443820118904114),\n",
       " ('exelente', 0.9425033330917358),\n",
       " ('super_rapida', 0.9412330389022827),\n",
       " ('agilidade_entregar', 0.9407752752304077),\n",
       " ('atender_expectativa', 0.940349280834198),\n",
       " ('amar_celular', 0.9394916892051697),\n",
       " ('corresponder_expectativa', 0.9391158223152161)]"
      ]
     },
     "execution_count": 49,
     "metadata": {},
     "output_type": "execute_result"
    }
   ],
   "source": [
    "# Termos mais similares da palavra \"recomendar\".\n",
    "w2v_model.wv.most_similar(positive = ['recomendar'])"
   ]
  },
  {
   "cell_type": "code",
   "execution_count": 50,
   "metadata": {},
   "outputs": [
    {
     "data": {
      "text/plain": [
       "[('nao_conseguir', 0.055495038628578186),\n",
       " ('entrar_contato', 0.05148463323712349),\n",
       " ('assistencia_tecnica', 0.046676717698574066),\n",
       " ('solicitar_trocar', 0.04558061808347702),\n",
       " ('mandar', 0.04024767130613327),\n",
       " ('levar_assistencia', 0.03156173229217529),\n",
       " ('trocar', 0.028701527044177055),\n",
       " ('quebrar', 0.018160982057452202),\n",
       " ('autorizar', 0.017916977405548096),\n",
       " ('novamente', 0.014192365109920502)]"
      ]
     },
     "execution_count": 50,
     "metadata": {},
     "output_type": "execute_result"
    }
   ],
   "source": [
    "# Termos mais antagônicos da palavra \"recomendar\".\n",
    "w2v_model.wv.most_similar(negative = ['recomendar'])"
   ]
  },
  {
   "cell_type": "markdown",
   "metadata": {},
   "source": [
    "Também podemos obter a similaridade entre duas palavras. "
   ]
  },
  {
   "cell_type": "code",
   "execution_count": 51,
   "metadata": {},
   "outputs": [
    {
     "data": {
      "text/plain": [
       "0.7092125"
      ]
     },
     "execution_count": 51,
     "metadata": {},
     "output_type": "execute_result"
    }
   ],
   "source": [
    "# Similaridade entre palavras.\n",
    "w2v_model.wv.similarity('comprar', 'atrasar')"
   ]
  },
  {
   "cell_type": "markdown",
   "metadata": {},
   "source": [
    "A similaridade entre \"comprar\" e \"atrasar\" é de 70%.\n",
    "\n",
    "Com base nisso, poderíamos dar início a uma análise mais profunda nesses dados a fim de extrair novos insights. \n",
    "\n",
    "Porém aqui, vamos partir para o objetivo final do projeto."
   ]
  },
  {
   "cell_type": "markdown",
   "metadata": {},
   "source": [
    "## 6. Classificando Tweets"
   ]
  },
  {
   "cell_type": "markdown",
   "metadata": {},
   "source": [
    "Chegamos a etapa final do projeto, aqui, vamos utilizar uma biblioteca para realizar a coleta do tweets e posteriormente apresentar esses dados ao modelo."
   ]
  },
  {
   "cell_type": "markdown",
   "metadata": {},
   "source": [
    "### 6.1 Coletando Tweets"
   ]
  },
  {
   "cell_type": "markdown",
   "metadata": {},
   "source": [
    "Para realizar a coleta dos tweets utilizaremos a biblioteca *Tweepy*, uma das mais utilizadas para esse tipo de tarefa.\n",
    "\n",
    "Também precisaremos registrar uma aplicação na plataforma de desenvolvimento do Twitter. \n",
    "\n",
    "Esse é um procedimento simples e caso deseje registrar sua própria aplicação, existem diversos tutoriais na internet explicando passo a passo.\n",
    "\n",
    "De forma resumida, você precisará:\n",
    "\n",
    "- Criar uma conta no Twitter (caso não tenha).\n",
    "- Acessar a página de desenvolvedores <a href='https://developer.twitter.com/'>(neste link)</a> e realizar o login.\n",
    "\n",
    "Após se conectar, é necessário registrar um \"APP\" para qual serão fornecidas as credenciais de acesso a API do Twitter, são elas: \n",
    "\n",
    "- API key.\n",
    "- API key secret.\n",
    "- Access token.\n",
    "- Access token secret.\n",
    " \n",
    "Salve suas credenciais em um arquivo \".txt\" conforme a imagem abaixo, para que possamos utilizá-las."
   ]
  },
  {
   "attachments": {
    "APITwitter.jpg": {
     "image/jpeg": "[encoded data removed]"
    }
   },
   "cell_type": "markdown",
   "metadata": {},
   "source": [
    "![APITwitter.jpg](attachment:APITwitter.jpg)"
   ]
  },
  {
   "cell_type": "code",
   "execution_count": 52,
   "metadata": {},
   "outputs": [],
   "source": [
    "# Abrindo o arquivo com as credenciais de acesso.\n",
    "with open('configTwitter.txt') as config:\n",
    "    \n",
    "    # Salvando as credenciais em variáveis.\n",
    "    config = toml.loads(config.read())\n",
    "    APP_NAME = config['APP_NAME']\n",
    "    API_KEY = config['API_KEY']\n",
    "    API_KEY_SECRET = config['API_KEY_SECRET']\n",
    "    ACCESS_TOKEN = config['ACCESS_TOKEN']\n",
    "    ACCESS_TOKEN_SECRET = config['ACCESS_TOKEN_SECRET']"
   ]
  },
  {
   "cell_type": "markdown",
   "metadata": {},
   "source": [
    "Com todas as chaves e *tokens* configurados, precisamos fazer a autenticação na API do Twitter."
   ]
  },
  {
   "cell_type": "code",
   "execution_count": 53,
   "metadata": {},
   "outputs": [],
   "source": [
    "# Autenticação no Twitter.\n",
    "\n",
    "# Autenticação do usuário.\n",
    "auth = tw.OAuthHandler(API_KEY, API_KEY_SECRET)\n",
    "\n",
    "# Autenticação dos tokens.\n",
    "auth.set_access_token(ACCESS_TOKEN, ACCESS_TOKEN_SECRET)\n",
    "\n",
    "# Autenticação na API.\n",
    "api = tw.API(auth)"
   ]
  },
  {
   "cell_type": "markdown",
   "metadata": {},
   "source": [
    "Com a autenticação na API realizada, podemos iniciar a coleta dos tweets.\n",
    "\n",
    "Vamos iniciar definindo uma variável que receberá o termo que estamos buscando, no nosso caso \"Black Friday\".\n",
    "\n",
    "Observe também que estamos utilizando *-filter:retweets* para filtrar os retweets, ou seja, os tweets repetidos."
   ]
  },
  {
   "cell_type": "code",
   "execution_count": 54,
   "metadata": {},
   "outputs": [],
   "source": [
    "# Definindo o termo de busca.\n",
    "query_search = 'Black Friday'  + '-filter:retweets' "
   ]
  },
  {
   "cell_type": "markdown",
   "metadata": {},
   "source": [
    "Agora, utilizaremos a função *Cursor*, especificando alguns parâmetros:\n",
    "\n",
    "- **api.search_tweets**: função para realizar a busca de tweets.\n",
    "- **q**: refere-se a nossa variável que contém o termo a ser buscado.\n",
    "- **lang**: especificamos que queremos apenas tweets em português.\n",
    "\n",
    "A função *items* contém a quantidade de tweets coletados, no nosso caso, estamos coletando 500 tweets."
   ]
  },
  {
   "cell_type": "code",
   "execution_count": 55,
   "metadata": {},
   "outputs": [],
   "source": [
    "# Realizando a busca.\n",
    "results = tw.Cursor(api.search_tweets, \n",
    "                    q = query_search, \n",
    "                    lang = 'pt').items(500)"
   ]
  },
  {
   "cell_type": "code",
   "execution_count": 56,
   "metadata": {},
   "outputs": [],
   "source": [
    "# Salvando os tweets.\n",
    "users = []\n",
    "tweets = []\n",
    "for tweet in results:\n",
    "    users.append(tweet.user.name)\n",
    "    tweets.append(tweet.text)"
   ]
  },
  {
   "cell_type": "markdown",
   "metadata": {},
   "source": [
    "Pronto! A coleta já foi realizada!\n",
    "\n",
    "Por fim, vamos salvar esse dataframe em um arquivo \"csv\"."
   ]
  },
  {
   "cell_type": "code",
   "execution_count": 57,
   "metadata": {},
   "outputs": [],
   "source": [
    "# Convertendo em dataframe.\n",
    "df_tweets = pd.DataFrame()\n",
    "df_tweets['Users'] = users\n",
    "df_tweets['Tweets'] = tweets"
   ]
  },
  {
   "cell_type": "code",
   "execution_count": 58,
   "metadata": {},
   "outputs": [],
   "source": [
    "# Salvando os dados.\n",
    "df_tweets.to_csv('twitterData.csv', index = False)"
   ]
  },
  {
   "cell_type": "markdown",
   "metadata": {},
   "source": [
    "### 6.2 Tratando os Dados Coletados"
   ]
  },
  {
   "cell_type": "markdown",
   "metadata": {},
   "source": [
    "Assim como fizemos com o conjunto de dados utilizado no treinamento do modelo, aqui, também precisaremos realizar o pré-processamento nos textos para organizar o *corpus* antes de iniciar a classificação.\n",
    "\n",
    "Vamos iniciar carregando o arquivo \"csv\", que salvamos anteriormente."
   ]
  },
  {
   "cell_type": "code",
   "execution_count": 59,
   "metadata": {},
   "outputs": [
    {
     "data": {
      "text/html": [
       "<div>\n",
       "<style scoped>\n",
       "    .dataframe tbody tr th:only-of-type {\n",
       "        vertical-align: middle;\n",
       "    }\n",
       "\n",
       "    .dataframe tbody tr th {\n",
       "        vertical-align: top;\n",
       "    }\n",
       "\n",
       "    .dataframe thead th {\n",
       "        text-align: right;\n",
       "    }\n",
       "</style>\n",
       "<table border=\"1\" class=\"dataframe\">\n",
       "  <thead>\n",
       "    <tr style=\"text-align: right;\">\n",
       "      <th></th>\n",
       "      <th>Users</th>\n",
       "      <th>Tweets</th>\n",
       "    </tr>\n",
       "  </thead>\n",
       "  <tbody>\n",
       "    <tr>\n",
       "      <th>0</th>\n",
       "      <td>Quis custodiet ipsos custodes?</td>\n",
       "      <td>@cahgyn @Ostralha Minha filha deve ter umas 30 LOL hahahahahahahaha\\nEm minha defesa, compramos nos EUA na Black Friday a preço de banana</td>\n",
       "    </tr>\n",
       "    <tr>\n",
       "      <th>1</th>\n",
       "      <td>𝟕🎮 PostoDeBocós 🇺🇦</td>\n",
       "      <td>@FreedomUnite_ @dovahkim123 Eu paguei 160 reais na Gold de um ano + Gamepass Ultimate 45 reais \\nTotalizando deu 205… https://t.co/qBaNiKTxJt</td>\n",
       "    </tr>\n",
       "    <tr>\n",
       "      <th>2</th>\n",
       "      <td>amanda</td>\n",
       "      <td>@itamaracalixto meu último piercing pro nariz comprei na @ bijus_de_maria na black friday. as pratas de lá são tudoooorrrr</td>\n",
       "    </tr>\n",
       "    <tr>\n",
       "      <th>3</th>\n",
       "      <td>𝐦𝐚𝐭𝐡 #𝐦𝐨𝐦</td>\n",
       "      <td>@ellaisapunk na black friday geralmente abaixa bastante</td>\n",
       "    </tr>\n",
       "    <tr>\n",
       "      <th>4</th>\n",
       "      <td>bebe da rihanna</td>\n",
       "      <td>@everyatoms @starquebrilha Laura vc quer enganar QUEM se for assim vc fez uma compra milionária não tem um dia dess… https://t.co/Sp3rw0yHV3</td>\n",
       "    </tr>\n",
       "  </tbody>\n",
       "</table>\n",
       "</div>"
      ],
      "text/plain": [
       "                            Users  \\\n",
       "0  Quis custodiet ipsos custodes?   \n",
       "1              𝟕🎮 PostoDeBocós 🇺🇦   \n",
       "2                          amanda   \n",
       "3                       𝐦𝐚𝐭𝐡 #𝐦𝐨𝐦   \n",
       "4                 bebe da rihanna   \n",
       "\n",
       "                                                                                                                                          Tweets  \n",
       "0      @cahgyn @Ostralha Minha filha deve ter umas 30 LOL hahahahahahahaha\\nEm minha defesa, compramos nos EUA na Black Friday a preço de banana  \n",
       "1  @FreedomUnite_ @dovahkim123 Eu paguei 160 reais na Gold de um ano + Gamepass Ultimate 45 reais \\nTotalizando deu 205… https://t.co/qBaNiKTxJt  \n",
       "2                     @itamaracalixto meu último piercing pro nariz comprei na @ bijus_de_maria na black friday. as pratas de lá são tudoooorrrr  \n",
       "3                                                                                        @ellaisapunk na black friday geralmente abaixa bastante  \n",
       "4   @everyatoms @starquebrilha Laura vc quer enganar QUEM se for assim vc fez uma compra milionária não tem um dia dess… https://t.co/Sp3rw0yHV3  "
      ]
     },
     "execution_count": 59,
     "metadata": {},
     "output_type": "execute_result"
    }
   ],
   "source": [
    "# Carregando os dados.\n",
    "twitter_df = pd.read_csv('twitterData.csv')\n",
    "twitter_df.head()"
   ]
  },
  {
   "cell_type": "markdown",
   "metadata": {},
   "source": [
    "Alguns dos tweets possuem links em suas mensagens, e isso precisa ser tratado antes de realizarmos a classificação. \n",
    "\n",
    "Para isso, iremos definir uma nova função."
   ]
  },
  {
   "cell_type": "code",
   "execution_count": 60,
   "metadata": {},
   "outputs": [],
   "source": [
    "# Criando a função.\n",
    "def rm_spam(df, col):\n",
    "    index_list = list()\n",
    "    for i in range(df.shape[0]):\n",
    "        match = re.search(r'\\Shttp|\\bhttp', df[col][i])\n",
    "        if match:\n",
    "            index_list.append(i)\n",
    "        else:\n",
    "            continue\n",
    "    df_filtered = df.drop(index_list, axis = 0).reset_index(drop = True)\n",
    "    return df_filtered"
   ]
  },
  {
   "cell_type": "code",
   "execution_count": 61,
   "metadata": {},
   "outputs": [],
   "source": [
    "# Aplicando a função.\n",
    "twitter_df = rm_spam(twitter_df, col = 'Tweets')"
   ]
  },
  {
   "cell_type": "code",
   "execution_count": 62,
   "metadata": {},
   "outputs": [
    {
     "data": {
      "text/html": [
       "<div>\n",
       "<style scoped>\n",
       "    .dataframe tbody tr th:only-of-type {\n",
       "        vertical-align: middle;\n",
       "    }\n",
       "\n",
       "    .dataframe tbody tr th {\n",
       "        vertical-align: top;\n",
       "    }\n",
       "\n",
       "    .dataframe thead th {\n",
       "        text-align: right;\n",
       "    }\n",
       "</style>\n",
       "<table border=\"1\" class=\"dataframe\">\n",
       "  <thead>\n",
       "    <tr style=\"text-align: right;\">\n",
       "      <th></th>\n",
       "      <th>Users</th>\n",
       "      <th>Tweets</th>\n",
       "    </tr>\n",
       "  </thead>\n",
       "  <tbody>\n",
       "    <tr>\n",
       "      <th>0</th>\n",
       "      <td>Quis custodiet ipsos custodes?</td>\n",
       "      <td>@cahgyn @Ostralha Minha filha deve ter umas 30 LOL hahahahahahahaha\\nEm minha defesa, compramos nos EUA na Black Friday a preço de banana</td>\n",
       "    </tr>\n",
       "    <tr>\n",
       "      <th>1</th>\n",
       "      <td>amanda</td>\n",
       "      <td>@itamaracalixto meu último piercing pro nariz comprei na @ bijus_de_maria na black friday. as pratas de lá são tudoooorrrr</td>\n",
       "    </tr>\n",
       "    <tr>\n",
       "      <th>2</th>\n",
       "      <td>𝐦𝐚𝐭𝐡 #𝐦𝐨𝐦</td>\n",
       "      <td>@ellaisapunk na black friday geralmente abaixa bastante</td>\n",
       "    </tr>\n",
       "    <tr>\n",
       "      <th>3</th>\n",
       "      <td>Júnior</td>\n",
       "      <td>@DaniloGentili 1° de abril agora é igual Black Friday? Vá vale na véspera?</td>\n",
       "    </tr>\n",
       "    <tr>\n",
       "      <th>4</th>\n",
       "      <td>gabrilly sousa</td>\n",
       "      <td>A útilma black friday que eu aproveitei foi a de chifre... quando eu pensei que tinha levado 1 era 5</td>\n",
       "    </tr>\n",
       "  </tbody>\n",
       "</table>\n",
       "</div>"
      ],
      "text/plain": [
       "                            Users  \\\n",
       "0  Quis custodiet ipsos custodes?   \n",
       "1                          amanda   \n",
       "2                       𝐦𝐚𝐭𝐡 #𝐦𝐨𝐦   \n",
       "3                          Júnior   \n",
       "4                  gabrilly sousa   \n",
       "\n",
       "                                                                                                                                      Tweets  \n",
       "0  @cahgyn @Ostralha Minha filha deve ter umas 30 LOL hahahahahahahaha\\nEm minha defesa, compramos nos EUA na Black Friday a preço de banana  \n",
       "1                 @itamaracalixto meu último piercing pro nariz comprei na @ bijus_de_maria na black friday. as pratas de lá são tudoooorrrr  \n",
       "2                                                                                    @ellaisapunk na black friday geralmente abaixa bastante  \n",
       "3                                                                 @DaniloGentili 1° de abril agora é igual Black Friday? Vá vale na véspera?  \n",
       "4                                       A útilma black friday que eu aproveitei foi a de chifre... quando eu pensei que tinha levado 1 era 5  "
      ]
     },
     "execution_count": 62,
     "metadata": {},
     "output_type": "execute_result"
    }
   ],
   "source": [
    "# Visualizando o dataframe.\n",
    "twitter_df.head()"
   ]
  },
  {
   "cell_type": "code",
   "execution_count": 63,
   "metadata": {},
   "outputs": [
    {
     "data": {
      "text/plain": [
       "(237, 2)"
      ]
     },
     "execution_count": 63,
     "metadata": {},
     "output_type": "execute_result"
    }
   ],
   "source": [
    "# Dimensão do dataframe.\n",
    "twitter_df.shape"
   ]
  },
  {
   "cell_type": "markdown",
   "metadata": {},
   "source": [
    "Observe que praticamente metade dos tweets foram excluídos.\n",
    "\n",
    "Agora, podemos aplicar as mesmas funções que aplicamos aos dados de treino."
   ]
  },
  {
   "cell_type": "code",
   "execution_count": 64,
   "metadata": {},
   "outputs": [],
   "source": [
    "# Tratando os dados.\n",
    "\n",
    "# Instanciando a classe.\n",
    "dp = DataPrep()\n",
    "\n",
    "# Aplicando as funções de limpeza e lematização.\n",
    "corpus_twt = dp.rm_accents(twitter_df['Tweets'])\n",
    "corpus_twt = dp.lemmatize(corpus_twt)"
   ]
  },
  {
   "cell_type": "code",
   "execution_count": 65,
   "metadata": {},
   "outputs": [
    {
     "name": "stdout",
     "output_type": "stream",
     "text": [
      "\n",
      "Classificação dos Tweets Reais:\n",
      "[1] Positivo-------- @cahgyn @Ostralha Minha filha deve ter umas 30 LOL hahahahahahahaha\n",
      "Em minha defesa, compramos nos EUA na Black Friday a preço de banana\n",
      "[2] Negativo-------- @itamaracalixto meu último piercing pro nariz comprei na @ bijus_de_maria na black friday. as pratas de lá são tudoooorrrr\n",
      "[3] Negativo-------- @ellaisapunk na black friday geralmente abaixa bastante\n",
      "[4] Negativo-------- @DaniloGentili 1° de abril agora é igual Black Friday? Vá vale na véspera?\n",
      "[5] Negativo-------- A útilma black friday que eu aproveitei foi a de chifre... quando eu pensei que tinha levado 1 era 5\n"
     ]
    }
   ],
   "source": [
    "# Predição com as frases testes.\n",
    "print('\\nClassificação dos Tweets Reais:')\n",
    "testes_vec = vectorizer.transform(corpus_twt)\n",
    "for i in range(len(testes)):\n",
    "    print('{} {:-<16} {}'.format([i+1], classifier_nb.predict(testes_vec)[i], twitter_df.iloc[i,1]))"
   ]
  },
  {
   "cell_type": "markdown",
   "metadata": {},
   "source": [
    "Vamos concatenar as previsões ao dataframe."
   ]
  },
  {
   "cell_type": "code",
   "execution_count": 66,
   "metadata": {},
   "outputs": [],
   "source": [
    "# Previsões do modelo.\n",
    "testes_pred = classifier_nb.predict(testes_vec)\n",
    "twitter_df['Predicted'] = testes_pred"
   ]
  },
  {
   "cell_type": "code",
   "execution_count": 67,
   "metadata": {},
   "outputs": [],
   "source": [
    "# Probabilidades da classe \"Positivo\".\n",
    "testes_probs = classifier_nb.predict_proba(testes_vec)  \n",
    "\n",
    "twitter_df['Positive_Prob']  = 0\n",
    "for i in range(twitter_df.shape[0]):\n",
    "    twitter_df['Positive_Prob'].iloc[i] = testes_probs[i][1]"
   ]
  },
  {
   "cell_type": "code",
   "execution_count": 68,
   "metadata": {},
   "outputs": [
    {
     "data": {
      "text/html": [
       "<div>\n",
       "<style scoped>\n",
       "    .dataframe tbody tr th:only-of-type {\n",
       "        vertical-align: middle;\n",
       "    }\n",
       "\n",
       "    .dataframe tbody tr th {\n",
       "        vertical-align: top;\n",
       "    }\n",
       "\n",
       "    .dataframe thead th {\n",
       "        text-align: right;\n",
       "    }\n",
       "</style>\n",
       "<table border=\"1\" class=\"dataframe\">\n",
       "  <thead>\n",
       "    <tr style=\"text-align: right;\">\n",
       "      <th></th>\n",
       "      <th>Users</th>\n",
       "      <th>Tweets</th>\n",
       "      <th>Predicted</th>\n",
       "      <th>Positive_Prob</th>\n",
       "    </tr>\n",
       "  </thead>\n",
       "  <tbody>\n",
       "    <tr>\n",
       "      <th>0</th>\n",
       "      <td>Quis custodiet ipsos custodes?</td>\n",
       "      <td>@cahgyn @Ostralha Minha filha deve ter umas 30 LOL hahahahahahahaha\\nEm minha defesa, compramos nos EUA na Black Friday a preço de banana</td>\n",
       "      <td>Positivo</td>\n",
       "      <td>0.501424</td>\n",
       "    </tr>\n",
       "    <tr>\n",
       "      <th>1</th>\n",
       "      <td>amanda</td>\n",
       "      <td>@itamaracalixto meu último piercing pro nariz comprei na @ bijus_de_maria na black friday. as pratas de lá são tudoooorrrr</td>\n",
       "      <td>Negativo</td>\n",
       "      <td>0.409029</td>\n",
       "    </tr>\n",
       "    <tr>\n",
       "      <th>2</th>\n",
       "      <td>𝐦𝐚𝐭𝐡 #𝐦𝐨𝐦</td>\n",
       "      <td>@ellaisapunk na black friday geralmente abaixa bastante</td>\n",
       "      <td>Negativo</td>\n",
       "      <td>0.248292</td>\n",
       "    </tr>\n",
       "    <tr>\n",
       "      <th>3</th>\n",
       "      <td>Júnior</td>\n",
       "      <td>@DaniloGentili 1° de abril agora é igual Black Friday? Vá vale na véspera?</td>\n",
       "      <td>Negativo</td>\n",
       "      <td>0.397810</td>\n",
       "    </tr>\n",
       "    <tr>\n",
       "      <th>4</th>\n",
       "      <td>gabrilly sousa</td>\n",
       "      <td>A útilma black friday que eu aproveitei foi a de chifre... quando eu pensei que tinha levado 1 era 5</td>\n",
       "      <td>Negativo</td>\n",
       "      <td>0.486283</td>\n",
       "    </tr>\n",
       "  </tbody>\n",
       "</table>\n",
       "</div>"
      ],
      "text/plain": [
       "                            Users  \\\n",
       "0  Quis custodiet ipsos custodes?   \n",
       "1                          amanda   \n",
       "2                       𝐦𝐚𝐭𝐡 #𝐦𝐨𝐦   \n",
       "3                          Júnior   \n",
       "4                  gabrilly sousa   \n",
       "\n",
       "                                                                                                                                      Tweets  \\\n",
       "0  @cahgyn @Ostralha Minha filha deve ter umas 30 LOL hahahahahahahaha\\nEm minha defesa, compramos nos EUA na Black Friday a preço de banana   \n",
       "1                 @itamaracalixto meu último piercing pro nariz comprei na @ bijus_de_maria na black friday. as pratas de lá são tudoooorrrr   \n",
       "2                                                                                    @ellaisapunk na black friday geralmente abaixa bastante   \n",
       "3                                                                 @DaniloGentili 1° de abril agora é igual Black Friday? Vá vale na véspera?   \n",
       "4                                       A útilma black friday que eu aproveitei foi a de chifre... quando eu pensei que tinha levado 1 era 5   \n",
       "\n",
       "  Predicted  Positive_Prob  \n",
       "0  Positivo       0.501424  \n",
       "1  Negativo       0.409029  \n",
       "2  Negativo       0.248292  \n",
       "3  Negativo       0.397810  \n",
       "4  Negativo       0.486283  "
      ]
     },
     "execution_count": 68,
     "metadata": {},
     "output_type": "execute_result"
    }
   ],
   "source": [
    "# Visualizando o dataframe.\n",
    "twitter_df.head()"
   ]
  },
  {
   "cell_type": "markdown",
   "metadata": {},
   "source": [
    "Podemos observar na coluna **`Positive_Prob`** que o modelo teve dificuldades para classificar alguns tweets. \n",
    "\n",
    "Isso pode ter acontecido pelo simples fato de alguns tweets não expressarem uma opinião de forma clara. \n",
    "\n",
    "Para assegurar um melhor resultado, iremos considerar somente os casos em que as probabilidades foram maiores que 85% ou menores que 10%."
   ]
  },
  {
   "cell_type": "code",
   "execution_count": 69,
   "metadata": {},
   "outputs": [],
   "source": [
    "# Classificações mais assertivas.\n",
    "selection = twitter_df[(twitter_df['Positive_Prob'] >= 0.85) | (twitter_df['Positive_Prob'] <= 0.10)].reset_index(drop = True)"
   ]
  },
  {
   "cell_type": "code",
   "execution_count": 70,
   "metadata": {},
   "outputs": [
    {
     "data": {
      "text/html": [
       "<div>\n",
       "<style scoped>\n",
       "    .dataframe tbody tr th:only-of-type {\n",
       "        vertical-align: middle;\n",
       "    }\n",
       "\n",
       "    .dataframe tbody tr th {\n",
       "        vertical-align: top;\n",
       "    }\n",
       "\n",
       "    .dataframe thead th {\n",
       "        text-align: right;\n",
       "    }\n",
       "</style>\n",
       "<table border=\"1\" class=\"dataframe\">\n",
       "  <thead>\n",
       "    <tr style=\"text-align: right;\">\n",
       "      <th></th>\n",
       "      <th>Users</th>\n",
       "      <th>Tweets</th>\n",
       "      <th>Predicted</th>\n",
       "      <th>Positive_Prob</th>\n",
       "    </tr>\n",
       "  </thead>\n",
       "  <tbody>\n",
       "    <tr>\n",
       "      <th>0</th>\n",
       "      <td>DIIH</td>\n",
       "      <td>Essa semana começou parecendo Black Friday na Renner, tá de sacanagem 🤡🤯</td>\n",
       "      <td>Negativo</td>\n",
       "      <td>0.078337</td>\n",
       "    </tr>\n",
       "    <tr>\n",
       "      <th>1</th>\n",
       "      <td>marta morta</td>\n",
       "      <td>@LollapaloozaBr chama as haim e a rosalía aí na moralzinha \\ne a rebecca black tb deixa a gata superar friday</td>\n",
       "      <td>Positivo</td>\n",
       "      <td>0.871289</td>\n",
       "    </tr>\n",
       "    <tr>\n",
       "      <th>2</th>\n",
       "      <td>Leticia</td>\n",
       "      <td>Eu amo q ainda tem metade dos livros q eu comprei na black friday pra ler</td>\n",
       "      <td>Positivo</td>\n",
       "      <td>0.856403</td>\n",
       "    </tr>\n",
       "    <tr>\n",
       "      <th>3</th>\n",
       "      <td>Said Silva Music</td>\n",
       "      <td>Hoje o carinha chegou pra vender capa pra mim, 1 por 30 ou 2 por 50 eu falei: tenho 10 conto, ele disse: sorte sua que é Black Friday</td>\n",
       "      <td>Negativo</td>\n",
       "      <td>0.097124</td>\n",
       "    </tr>\n",
       "    <tr>\n",
       "      <th>4</th>\n",
       "      <td>Diego Alves</td>\n",
       "      <td>@souldemarte_ Eu só queria dinheiro pra comprar aquele box da Selena. Tô esperando novembro pra ver se entra na Black Friday</td>\n",
       "      <td>Negativo</td>\n",
       "      <td>0.095735</td>\n",
       "    </tr>\n",
       "  </tbody>\n",
       "</table>\n",
       "</div>"
      ],
      "text/plain": [
       "              Users  \\\n",
       "0              DIIH   \n",
       "1       marta morta   \n",
       "2           Leticia   \n",
       "3  Said Silva Music   \n",
       "4       Diego Alves   \n",
       "\n",
       "                                                                                                                                  Tweets  \\\n",
       "0                                                               Essa semana começou parecendo Black Friday na Renner, tá de sacanagem 🤡🤯   \n",
       "1                          @LollapaloozaBr chama as haim e a rosalía aí na moralzinha \\ne a rebecca black tb deixa a gata superar friday   \n",
       "2                                                              Eu amo q ainda tem metade dos livros q eu comprei na black friday pra ler   \n",
       "3  Hoje o carinha chegou pra vender capa pra mim, 1 por 30 ou 2 por 50 eu falei: tenho 10 conto, ele disse: sorte sua que é Black Friday   \n",
       "4           @souldemarte_ Eu só queria dinheiro pra comprar aquele box da Selena. Tô esperando novembro pra ver se entra na Black Friday   \n",
       "\n",
       "  Predicted  Positive_Prob  \n",
       "0  Negativo       0.078337  \n",
       "1  Positivo       0.871289  \n",
       "2  Positivo       0.856403  \n",
       "3  Negativo       0.097124  \n",
       "4  Negativo       0.095735  "
      ]
     },
     "execution_count": 70,
     "metadata": {},
     "output_type": "execute_result"
    }
   ],
   "source": [
    "# Visualizando o dataframe.\n",
    "selection.head()"
   ]
  },
  {
   "cell_type": "markdown",
   "metadata": {},
   "source": [
    "Agora sim, parece que as classificações fazem mais sentido. \n",
    "\n",
    "Vamos verificar a proporção das classificações."
   ]
  },
  {
   "cell_type": "code",
   "execution_count": 71,
   "metadata": {},
   "outputs": [
    {
     "data": {
      "text/plain": [
       "Negativo    0.6\n",
       "Positivo    0.4\n",
       "Name: Predicted, dtype: float64"
      ]
     },
     "execution_count": 71,
     "metadata": {},
     "output_type": "execute_result"
    }
   ],
   "source": [
    "# Contagem de registros.\n",
    "selection['Predicted'].value_counts(normalize = True)"
   ]
  },
  {
   "cell_type": "markdown",
   "metadata": {},
   "source": [
    "## 7. Considerações Finais"
   ]
  },
  {
   "cell_type": "markdown",
   "metadata": {},
   "source": [
    "O maior desafio desse projeto estava em não possuir um conjunto de dados pré-etiquetados para o treinamento do modelo. \n",
    "\n",
    "Por conta disso, utilizamos um conjunto com dados similares ao tema abordado.\n",
    "\n",
    "Durante a fase de preparação dos dados, aplicamos técnicas amplamente utilizadas em PLN e que foram cruciais para o modelo consiguir interpretar as informações e realizar as classificações em um conjunto de dados relativamente diferente do que foi utilizado para seu treinamento.\n",
    "\n",
    "Em relação ao desempenho do modelo treinado com o algoritmo *Naive Bayes*, conseguimos um resultado bastante satisfatório. \n",
    "\n",
    "Podemos perceber que para alguns tweets, o modelo teve maior dificuldade para realizar as classificações, e por esse motivo, consideramos apenas as classificações mais assertivas.\n",
    "\n",
    "Apesar desse projeto ter uma complexidade de nível básico em PLN, poderíamos utilizar as mesmas abordagens vistas aqui para treinar um modelo capaz de classificar tweets referentes a qualquer tema, e assim, auxiliar as áreas de interesse a tomar as melhores decisões para a empresa."
   ]
  }
 ],
 "metadata": {
  "kernelspec": {
   "display_name": "Python 3",
   "language": "python",
   "name": "python3"
  },
  "language_info": {
   "codemirror_mode": {
    "name": "ipython",
    "version": 3
   },
   "file_extension": ".py",
   "mimetype": "text/x-python",
   "name": "python",
   "nbconvert_exporter": "python",
   "pygments_lexer": "ipython3",
   "version": "3.7.3"
  }
 },
 "nbformat": 4,
 "nbformat_minor": 2
}
